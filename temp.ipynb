{
 "cells": [
  {
   "cell_type": "code",
   "execution_count": 5,
   "id": "dc5e6206",
   "metadata": {},
   "outputs": [
    {
     "name": "stdout",
     "output_type": "stream",
     "text": [
      "12345678 has been removed.\n",
      "5100902 has been removed.\n",
      "a0ms1n has been removed.\n",
      "admin has been removed.\n",
      "anx50 has been removed.\n",
      "asfd has been removed.\n",
      "bank_5f101 has been removed.\n",
      "beawkiattisak has been removed.\n",
      "Bestzu has been removed.\n",
      "biu2 has been removed.\n",
      "blackslex has been removed.\n",
      "duduh has been removed.\n",
      "FJT has been removed.\n",
      "FotoFatTurtle has been removed.\n",
      "Godcoaco has been removed.\n",
      "GUGUG has been removed.\n",
      "ItsGuitar has been removed.\n",
      "kokejohh has been removed.\n",
      "kungarooo has been removed.\n",
      "KungFuPandaX123 has been removed.\n",
      "kunzaka001 has been removed.\n",
      "lt has been removed.\n",
      "Marszpace has been removed.\n",
      "mekkathon has been removed.\n",
      "mil0 has been removed.\n",
      "muri has been removed.\n",
      "NamkhingXD has been removed.\n",
      "necronhandle has been removed.\n",
      "NortGlG has been removed.\n",
      "omsincoconut has been removed.\n",
      "opal_5fInwza007x has been removed.\n",
      "orzyuckii_5f has been removed.\n",
      "Oshiki_5fIsarangi has been removed.\n",
      "Power2two has been removed.\n",
      "Rhael has been removed.\n",
      "rickandevilmorty has been removed.\n",
      "Shvyaoo has been removed.\n",
      "sleepntsheep has been removed.\n",
      "sleepntsheep1 has been removed.\n",
      "spadXe has been removed.\n",
      "spycoderyt has been removed.\n",
      "Thitikorn has been removed.\n",
      "tnt has been removed.\n",
      "tokyo682 has been removed.\n",
      "ToroTN has been removed.\n",
      "urgent has been removed.\n",
      "whatiscpp has been removed.\n",
      "Zonezonee has been removed.\n"
     ]
    }
   ],
   "source": [
    "import os\n",
    "\n",
    "users = os.listdir(\"sublist/\")\n",
    "\n",
    "bad_users = []\n",
    "\n",
    "for user in users:\n",
    "    with open(f\"sublist/{user}\",\"r\") as f:\n",
    "        if f.readlines()[0].strip() == \"[]\":\n",
    "            bad_users.append(user)\n",
    "\n",
    "for user in bad_users:\n",
    "    os.remove(f\"sublist/{user}\")\n",
    "    print(f\"{user} has been removed.\")\n"
   ]
  },
  {
   "cell_type": "code",
   "execution_count": 14,
   "id": "f889ab46",
   "metadata": {},
   "outputs": [
    {
     "name": "stdout",
     "output_type": "stream",
     "text": [
      "{'KanapojPM': {'f_name': 'KanapojPM', 'l_name': '', 'team': None}, 'ffeyyaaee_5f': {'f_name': 'ffeyyaaee_5f', 'l_name': '', 'team': None}, 'WWz': {'f_name': 'WWz', 'l_name': '', 'team': None}, 'skibidian': {'f_name': 'skibidian', 'l_name': '', 'team': None}, 'detective_5fconan': {'f_name': 'detective_5fconan', 'l_name': '', 'team': None}, 'hmmm': {'f_name': 'hmmm', 'l_name': '', 'team': None}, 'tull': {'f_name': 'tull', 'l_name': '', 'team': None}, 'Kunanon': {'f_name': 'Kunanon', 'l_name': '', 'team': None}, 'PakinDioxide': {'f_name': 'PakinDioxide', 'l_name': '', 'team': None}, 'krit3379': {'f_name': 'krit3379', 'l_name': '', 'team': None}, 'GUGUGGUGUG': {'f_name': 'GUGUGGUGUG', 'l_name': '', 'team': None}, 'kim': {'f_name': 'kim', 'l_name': '', 'team': None}, 'wasd0': {'f_name': 'wasd0', 'l_name': '', 'team': None}, 'Mingyuanz': {'f_name': 'Mingyuanz', 'l_name': '', 'team': None}, 'Whale': {'f_name': 'Whale', 'l_name': '', 'team': None}, 'jenterjongle45': {'f_name': 'jenterjongle45', 'l_name': '', 'team': None}, 'Newtonabc': {'f_name': 'Newtonabc', 'l_name': '', 'team': None}, 'Yeebai': {'f_name': 'Yeebai', 'l_name': '', 'team': None}, 'exoworldgd': {'f_name': 'exoworldgd', 'l_name': '', 'team': None}, 'anonymous': {'f_name': 'anonymous', 'l_name': '', 'team': None}, 'icy': {'f_name': 'icy', 'l_name': '', 'team': None}, 'whiteslex': {'f_name': 'whiteslex', 'l_name': '', 'team': None}, 'ARGSX': {'f_name': 'ARGSX', 'l_name': '', 'team': None}, '68pretoi05275': {'f_name': '68pretoi05275', 'l_name': '', 'team': None}, 'winterzxf': {'f_name': 'winterzxf', 'l_name': '', 'team': None}, 'myvalentine': {'f_name': 'myvalentine', 'l_name': '', 'team': None}, 'opalzaza123': {'f_name': 'opalzaza123', 'l_name': '', 'team': None}, '0PorpienG0': {'f_name': '0PorpienG0', 'l_name': '', 'team': None}, 'bignigga56': {'f_name': 'bignigga56', 'l_name': '', 'team': None}, 'MiyaZaki1072': {'f_name': 'MiyaZaki1072', 'l_name': '', 'team': None}, 'kunzaZa183': {'f_name': 'kunzaZa183', 'l_name': '', 'team': None}, 'kikikicem123': {'f_name': 'kikikicem123', 'l_name': '', 'team': None}, 'atsuiiw': {'f_name': 'atsuiiw', 'l_name': '', 'team': None}, 'Nagornz': {'f_name': 'Nagornz', 'l_name': '', 'team': None}, 'CTI': {'f_name': 'CTI', 'l_name': '', 'team': None}, 'kutomei3maybe': {'f_name': 'kutomei3maybe', 'l_name': '', 'team': None}, 'bobdelobster': {'f_name': 'bobdelobster', 'l_name': '', 'team': None}, 'monpluk': {'f_name': 'monpluk', 'l_name': '', 'team': None}, 'Prikpao': {'f_name': 'Prikpao', 'l_name': '', 'team': None}, 'meme_5fboi2': {'f_name': 'meme_5fboi2', 'l_name': '', 'team': None}, 'Nonbangkok': {'f_name': 'Nonbangkok', 'l_name': '', 'team': None}, '1f1e33': {'f_name': '1f1e33', 'l_name': '', 'team': None}, 'Korticz': {'f_name': 'Korticz', 'l_name': '', 'team': None}, 'twhap': {'f_name': 'twhap', 'l_name': '', 'team': None}, 'Sirawit': {'f_name': 'Sirawit', 'l_name': '', 'team': None}, 'guest': {'f_name': 'guest', 'l_name': '', 'team': None}, 'lufychop': {'f_name': 'lufychop', 'l_name': '', 'team': None}, 'NathInwza007': {'f_name': 'NathInwza007', 'l_name': '', 'team': None}, 'pridelique': {'f_name': 'pridelique', 'l_name': '', 'team': None}, 'fuck': {'f_name': 'fuck', 'l_name': '', 'team': None}, 'chanoon': {'f_name': 'chanoon', 'l_name': '', 'team': None}, 'pppppppppppp': {'f_name': 'pppppppppppp', 'l_name': '', 'team': None}, 'werwer': {'f_name': 'werwer', 'l_name': '', 'team': None}, 'Jayss': {'f_name': 'Jayss', 'l_name': '', 'team': None}, 'JungPS': {'f_name': 'JungPS', 'l_name': '', 'team': None}, 'aad': {'f_name': 'aad', 'l_name': '', 'team': None}, 'pxsit': {'f_name': 'pxsit', 'l_name': '', 'team': None}, 'myd': {'f_name': 'myd', 'l_name': '', 'team': None}, 'phanwalai': {'f_name': 'phanwalai', 'l_name': '', 'team': None}, 'Prionk': {'f_name': 'Prionk', 'l_name': '', 'team': None}, 'NovemNotes': {'f_name': 'NovemNotes', 'l_name': '', 'team': None}, 'ThanapatChandenduang': {'f_name': 'ThanapatChandenduang', 'l_name': '', 'team': None}, 'Yuckii_5f': {'f_name': 'Yuckii_5f', 'l_name': '', 'team': None}, 'ultrabroom': {'f_name': 'ultrabroom', 'l_name': '', 'team': None}, 'BestWarakorn': {'f_name': 'BestWarakorn', 'l_name': '', 'team': None}, 'symoney': {'f_name': 'symoney', 'l_name': '', 'team': None}, 'fluke': {'f_name': 'fluke', 'l_name': '', 'team': None}, 'peem_5fmt': {'f_name': 'peem_5fmt', 'l_name': '', 'team': None}, 'SAINTACH': {'f_name': 'SAINTACH', 'l_name': '', 'team': None}, 'Muitonob': {'f_name': 'Muitonob', 'l_name': '', 'team': None}, 'NamkhingUwU': {'f_name': 'NamkhingUwU', 'l_name': '', 'team': None}, 'jump': {'f_name': 'jump', 'l_name': '', 'team': None}, 'aafsafag': {'f_name': 'aafsafag', 'l_name': '', 'team': None}, 'rl1234': {'f_name': 'rl1234', 'l_name': '', 'team': None}}\n"
     ]
    }
   ],
   "source": [
    "import json\n",
    "\n",
    "with open(\"users/index.html\") as f:\n",
    "    user_data=json.load(f)\n",
    "\n",
    "# print(user_data)\n",
    "\n",
    "for user in bad_users:\n",
    "    del user_data[user]\n",
    "\n",
    "for user in user_data.keys():\n",
    "    user_data[user]['f_name'] = user\n",
    "    user_data[user]['l_name'] = ''\n",
    "\n",
    "print(user_data)\n",
    "\n",
    "\n",
    "with open(\"users/new_index.html\",\"w\") as f:\n",
    "    json.dump(user_data,f)\n",
    "\n",
    "    "
   ]
  },
  {
   "cell_type": "code",
   "execution_count": 17,
   "id": "663e7ff9",
   "metadata": {},
   "outputs": [],
   "source": [
    "\n",
    "with open(\"users/index.html\") as f:\n",
    "    user_data=json.load(f)\n",
    "\n",
    "with open(\"history\",\"r\") as f:\n",
    "    data = json.load(f)\n",
    "\n",
    "new_data = []\n",
    "for e in data:\n",
    "    if e[0] in user_data:\n",
    "        new_data.append(e)\n",
    "\n",
    "with open(\"history\",\"w\") as f:\n",
    "    json.dump(new_data,f)"
   ]
  },
  {
   "cell_type": "code",
   "execution_count": 19,
   "id": "e7fc1e37",
   "metadata": {},
   "outputs": [],
   "source": [
    "with open(\"users/index.html\") as f:\n",
    "    user_data=json.load(f)\n",
    "\n",
    "with open(\"scores\",\"r\") as f:\n",
    "    data = json.load(f)\n",
    "\n",
    "new_data = dict()\n",
    "\n",
    "for user in user_data.keys():\n",
    "    new_data[user] = data[user]\n",
    "\n",
    "with open(\"scores\",\"w\") as f:\n",
    "    json.dump(new_data,f)"
   ]
  }
 ],
 "metadata": {
  "kernelspec": {
   "display_name": "Python 3",
   "language": "python",
   "name": "python3"
  },
  "language_info": {
   "codemirror_mode": {
    "name": "ipython",
    "version": 3
   },
   "file_extension": ".py",
   "mimetype": "text/x-python",
   "name": "python",
   "nbconvert_exporter": "python",
   "pygments_lexer": "ipython3",
   "version": "3.12.4"
  }
 },
 "nbformat": 4,
 "nbformat_minor": 5
}
